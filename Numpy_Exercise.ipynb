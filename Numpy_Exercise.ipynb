{
 "cells": [
  {
   "cell_type": "markdown",
   "metadata": {},
   "source": [
    "# Numpy Exercise Solution  <img src = \"numpy1.png\">\n",
    "###### Authored by Nagendra yadav"
   ]
  },
  {
   "cell_type": "markdown",
   "metadata": {},
   "source": [
    "#### 1. Create a numpy array with the number of elements equals your age. The value of array elements is a random number between 10 to your age "
   ]
  },
  {
   "cell_type": "code",
   "execution_count": 2,
   "metadata": {},
   "outputs": [
    {
     "data": {
      "text/plain": [
       "array([10, 18, 12, 12, 21, 10, 11, 21, 13, 14, 16, 20, 10, 19, 11, 17, 12,\n",
       "       21, 21, 15, 18, 19])"
      ]
     },
     "execution_count": 2,
     "metadata": {},
     "output_type": "execute_result"
    }
   ],
   "source": [
    "import numpy as np\n",
    "import array\n",
    "np.random.randint(10,22,size=22)\n"
   ]
  },
  {
   "cell_type": "markdown",
   "metadata": {},
   "source": [
    "#### 2. Create a numpy array between 1 to 50 with the span(space) of 2 and print the length of the array"
   ]
  },
  {
   "cell_type": "code",
   "execution_count": 5,
   "metadata": {},
   "outputs": [
    {
     "name": "stdout",
     "output_type": "stream",
     "text": [
      "[ 1  3  5  7  9 11 13 15 17 19 21 23 25 27 29 31 33 35 37 39 41 43 45 47\n",
      " 49]\n",
      "25\n"
     ]
    }
   ],
   "source": [
    "x=np.arange(1,50,step=2)\n",
    "print(x)\n",
    "print(len(x))\n",
    "\n"
   ]
  },
  {
   "cell_type": "markdown",
   "metadata": {},
   "source": [
    "#### 3. Create an equally spaced numpy array with 27 elements between 4 and 7 "
   ]
  },
  {
   "cell_type": "code",
   "execution_count": 8,
   "metadata": {},
   "outputs": [
    {
     "data": {
      "text/plain": [
       "array([4, 4, 4, 4, 4, 4, 4, 4, 4, 5, 5, 5, 5, 5, 5, 5, 5, 5, 6, 6, 6, 6,\n",
       "       6, 6, 6, 6, 7])"
      ]
     },
     "execution_count": 8,
     "metadata": {},
     "output_type": "execute_result"
    }
   ],
   "source": [
    "np.linspace(4,7,num=27,dtype=int)\n"
   ]
  },
  {
   "cell_type": "markdown",
   "metadata": {},
   "source": [
    "#### 4. Create a matrix of size (5 x 4) with random numbers and round off the each elements by only 2 fractional points."
   ]
  },
  {
   "cell_type": "code",
   "execution_count": 15,
   "metadata": {},
   "outputs": [
    {
     "name": "stdout",
     "output_type": "stream",
     "text": [
      "[[0.16 0.59 0.55 0.01]\n",
      " [0.58 0.69 0.29 0.52]\n",
      " [0.82 0.39 0.16 0.83]\n",
      " [0.05 0.29 0.93 0.47]\n",
      " [0.65 0.61 0.6  0.2 ]]\n"
     ]
    }
   ],
   "source": [
    "# Solution\n",
    "x=np.random.random((5,4))\n",
    "\n",
    "print(np.round(x,2))\n",
    "\n"
   ]
  },
  {
   "cell_type": "markdown",
   "metadata": {},
   "source": [
    "#### 5. Create a matrix of size (5x5) with random integers between 5 to 15"
   ]
  },
  {
   "cell_type": "code",
   "execution_count": 10,
   "metadata": {},
   "outputs": [
    {
     "data": {
      "text/plain": [
       "array([[ 7,  5, 10, 12, 14],\n",
       "       [13, 14,  9,  9, 12],\n",
       "       [ 5, 12,  9, 10,  8],\n",
       "       [13, 14, 14,  6, 13],\n",
       "       [ 9,  7, 13, 13,  8]])"
      ]
     },
     "execution_count": 10,
     "metadata": {},
     "output_type": "execute_result"
    }
   ],
   "source": [
    "# Solution\n",
    "np.random.randint(5,15,(5,5))\n"
   ]
  },
  {
   "cell_type": "markdown",
   "metadata": {},
   "source": [
    "#### 6. Create the one dimensional array of zeros of random length below 20 with the data type int32"
   ]
  },
  {
   "cell_type": "code",
   "execution_count": 3,
   "metadata": {},
   "outputs": [
    {
     "data": {
      "text/plain": [
       "array([0., 0., 0., 0., 0., 0., 0., 0., 0., 0., 0., 0., 0., 0., 0., 0., 0.,\n",
       "       0.])"
      ]
     },
     "execution_count": 3,
     "metadata": {},
     "output_type": "execute_result"
    }
   ],
   "source": [
    "# Solution\n",
    "np.zeros(np.random.randint(1,20),dtype=\"float64\")\n",
    "\n"
   ]
  },
  {
   "cell_type": "markdown",
   "metadata": {},
   "source": [
    "#### 7. Create a two dimensional array of ones of random row and column lengths with the data type of float32 "
   ]
  },
  {
   "cell_type": "code",
   "execution_count": 8,
   "metadata": {},
   "outputs": [],
   "source": [
    "# Solution\n",
    "np.ones(np.random.randint(1,20),dtype=\"int32\")\n",
    "\n"
   ]
  },
  {
   "cell_type": "markdown",
   "metadata": {},
   "source": [
    "#### 8. Create a matrix exactly as same as shown below and print its shape, type and dtype\n",
    "<img src = \"np_mat1.png\">"
   ]
  },
  {
   "cell_type": "code",
   "execution_count": 35,
   "metadata": {},
   "outputs": [
    {
     "name": "stdout",
     "output_type": "stream",
     "text": [
      "[[ 9 25 50 34 45]\n",
      " [ 3 34 34 65  2]\n",
      " [ 5  7  3 76  3]\n",
      " [ 7  8  6 54  6]\n",
      " [23 12  8  5  8]]\n",
      "the diminsion 2\n",
      "the shape of value (5, 5)\n",
      "the dtype is  int32\n"
     ]
    }
   ],
   "source": [
    "# Solution\n",
    "var=np.array([9,25,50,34,45,3,34,34,65,2,5,7,3,76,3,7,8,6,54,6,23,12,8,5,8])\n",
    "z=var.reshape(5,5)\n",
    "print(z)\n",
    "a,b=z.shape\n",
    "print(\"the diminsion\",z.ndim) \n",
    "print(\"the shape of value\",z.shape)\n",
    "print(\"the dtype is \",z.dtype)"
   ]
  },
  {
   "cell_type": "markdown",
   "metadata": {},
   "source": [
    "#### 9. Access the center pixel of the matrix defined in the question no 8 ( Don't enter the row and column index explicitely)"
   ]
  },
  {
   "cell_type": "code",
   "execution_count": 42,
   "metadata": {},
   "outputs": [
    {
     "name": "stdout",
     "output_type": "stream",
     "text": [
      "3\n"
     ]
    }
   ],
   "source": [
    "# Solution\n",
    "print(z[a//2][b//2])\n",
    "\n"
   ]
  },
  {
   "cell_type": "markdown",
   "metadata": {},
   "source": [
    "#### 10. Print the all the elements of 3rd row of the matrix"
   ]
  },
  {
   "cell_type": "code",
   "execution_count": 44,
   "metadata": {},
   "outputs": [
    {
     "name": "stdout",
     "output_type": "stream",
     "text": [
      "[ 5  7  3 76  3]\n"
     ]
    }
   ],
   "source": [
    "# Solution\n",
    "print(z[2])\n"
   ]
  },
  {
   "cell_type": "markdown",
   "metadata": {},
   "source": [
    "#### 11. Print the all the elements of 4th columns of the matrix"
   ]
  },
  {
   "cell_type": "code",
   "execution_count": 57,
   "metadata": {},
   "outputs": [
    {
     "name": "stdout",
     "output_type": "stream",
     "text": [
      "[[34]\n",
      " [65]\n",
      " [76]\n",
      " [54]\n",
      " [ 5]]\n"
     ]
    }
   ],
   "source": [
    "# Solution\n",
    "print(z[:,3:4])\n",
    "\n"
   ]
  },
  {
   "cell_type": "markdown",
   "metadata": {},
   "source": [
    "#### 12. Print the 4 corner pixels of the matrix"
   ]
  },
  {
   "cell_type": "code",
   "execution_count": 202,
   "metadata": {},
   "outputs": [
    {
     "name": "stdout",
     "output_type": "stream",
     "text": [
      "9 45 23 8\n"
     ]
    }
   ],
   "source": [
    "# Solution\n",
    "print(z[0][0],z[0][4],z[4][0],z[4][4])"
   ]
  },
  {
   "cell_type": "markdown",
   "metadata": {},
   "source": [
    "#### 13. Create three matrix m1,m2,m3 with the elements grouped in the figure below\n",
    "<img src = \"np_mat2.png\">"
   ]
  },
  {
   "cell_type": "code",
   "execution_count": 90,
   "metadata": {},
   "outputs": [
    {
     "name": "stdout",
     "output_type": "stream",
     "text": [
      "[[50 34]\n",
      " [34 65]]\n",
      "[[ 7  8]\n",
      " [23 12]]\n",
      "[[ 3 76  3]\n",
      " [ 6 54  6]\n",
      " [ 8  5  8]]\n"
     ]
    }
   ],
   "source": [
    "# Solution\n",
    "m1=z[0:2,2:4]\n",
    "m3=z[2:5,2:5]\n",
    "m2=z[3:5,0:2]\n",
    "print(m1)\n",
    "print(m2)\n",
    "print(m3)"
   ]
  },
  {
   "cell_type": "markdown",
   "metadata": {},
   "source": [
    "#### 14. Reshape all the three matrix segmented in the above task in to three  1-dimensional vector."
   ]
  },
  {
   "cell_type": "code",
   "execution_count": 80,
   "metadata": {},
   "outputs": [
    {
     "name": "stdout",
     "output_type": "stream",
     "text": [
      "[[50 34 34 65]]\n",
      "[[ 3 76  3  6 54  6  8  5  8]]\n",
      "[[ 7  8 23 12]]\n"
     ]
    }
   ],
   "source": [
    "print(m1.reshape(1,4))\n",
    "print(m3.reshape(1,9))\n",
    "print(m2.reshape(1,4))"
   ]
  },
  {
   "cell_type": "markdown",
   "metadata": {},
   "source": [
    "#### 15. Concatenate the matrix m1 and m2 in both vertical and horizontal direction"
   ]
  },
  {
   "cell_type": "code",
   "execution_count": 81,
   "metadata": {},
   "outputs": [
    {
     "name": "stdout",
     "output_type": "stream",
     "text": [
      "[[50 34  7  8]\n",
      " [34 65 23 12]]\n",
      "[[50 34]\n",
      " [34 65]\n",
      " [ 7  8]\n",
      " [23 12]]\n"
     ]
    }
   ],
   "source": [
    "# Solution\n",
    "print(np.concatenate([m1,m2],axis=1))\n",
    "print(np.concatenate([m1,m2]))"
   ]
  },
  {
   "cell_type": "markdown",
   "metadata": {},
   "source": [
    "#### 16. Add, Subtract, multiply, divide the matrixes m1 and m2"
   ]
  },
  {
   "cell_type": "code",
   "execution_count": 85,
   "metadata": {},
   "outputs": [
    {
     "name": "stdout",
     "output_type": "stream",
     "text": [
      "[[57 42]\n",
      " [57 77]]\n",
      "[[43 26]\n",
      " [11 53]]\n",
      "[[350 272]\n",
      " [782 780]]\n",
      "[[7.14285714 4.25      ]\n",
      " [1.47826087 5.41666667]]\n"
     ]
    }
   ],
   "source": [
    "# Solution\n",
    "add=m1+m2\n",
    "print(add)\n",
    "sub=m1-m2\n",
    "print(sub)\n",
    "mul=m1*m2\n",
    "print(mul)\n",
    "div=m1/m2\n",
    "print(div)\n"
   ]
  },
  {
   "cell_type": "markdown",
   "metadata": {},
   "source": [
    "#### 17. Add the m1 with m3 by removing the first row and last column of m3"
   ]
  },
  {
   "cell_type": "code",
   "execution_count": 106,
   "metadata": {},
   "outputs": [
    {
     "name": "stdout",
     "output_type": "stream",
     "text": [
      "[[56 88]\n",
      " [42 70]]\n"
     ]
    }
   ],
   "source": [
    "# Solution\n",
    "m5=m3[1:3,0:2]\n",
    "print(m1+m5)\n"
   ]
  },
  {
   "cell_type": "markdown",
   "metadata": {},
   "source": [
    "#### 18. Form the matrix m4 by concatenating (as a new row) the vector [me1, me2] with the matrix m1, where me1 and me2 are the mean values of each column on m1."
   ]
  },
  {
   "cell_type": "code",
   "execution_count": 132,
   "metadata": {},
   "outputs": [
    {
     "name": "stdout",
     "output_type": "stream",
     "text": [
      "[[50 34]\n",
      " [34 65]\n",
      " [42 49]]\n"
     ]
    }
   ],
   "source": [
    "# Solution\n",
    "me1=np.mean(m1[:,0:1],dtype=int)\n",
    "me2=np.mean(m1[:,1:2],dtype=int)\n",
    "vect=np.array([me1,me2])\n",
    "m4=np.concatenate([m1,[vect]],axis=0)\n",
    "print(m4)\n",
    "\n"
   ]
  },
  {
   "cell_type": "markdown",
   "metadata": {},
   "source": [
    "#### 19. Perform the matrix multiplication between m3 and m4"
   ]
  },
  {
   "cell_type": "code",
   "execution_count": 135,
   "metadata": {},
   "outputs": [
    {
     "data": {
      "text/plain": [
       "array([[2860, 5189],\n",
       "       [2388, 4008],\n",
       "       [ 906,  989]])"
      ]
     },
     "execution_count": 135,
     "metadata": {},
     "output_type": "execute_result"
    }
   ],
   "source": [
    "# Solution\n",
    "np.dot(m3,m4)\n"
   ]
  },
  {
   "cell_type": "markdown",
   "metadata": {},
   "source": [
    "#### 20. Compute the maximum and minimum value of mean, variance, standard deviation for each row of matrix created in question number 8."
   ]
  },
  {
   "cell_type": "code",
   "execution_count": 157,
   "metadata": {},
   "outputs": [
    {
     "name": "stdout",
     "output_type": "stream",
     "text": [
      "The maximum mean is 32.6\n",
      "The maximum mean is 11.2\n",
      "The maximum standard deviation is 28.63843571147\n",
      "The minimum standard deviation is 6.305553108173779\n",
      "The maximum variance is 820.1600000000001\n",
      "The minimum variance is 39.760000000000005\n"
     ]
    }
   ],
   "source": [
    "# Solution\n",
    "r1=np.mean(z[0:1,0:5])\n",
    "r2=np.mean(z[1:2,0:5])\n",
    "r3=np.mean(z[2:3,0:5])\n",
    "r4=np.mean(z[3:4,0:5])\n",
    "r5=np.mean(z[4:5,0:5])\n",
    "print(\"The maximum mean is\",max(r1,r2,r3,r4,r5))\n",
    "print(\"The maximum mean is\",min(r1,r2,r3,r4,r5))\n",
    "s1=np.std(z[0:1,0:5])\n",
    "s2=np.std(z[1:2,0:5])\n",
    "s3=np.std(z[2:3,0:5])\n",
    "s4=np.std(z[3:4,0:5])\n",
    "s5=np.std(z[4:5,0:5])\n",
    "\n",
    "print(\"The maximum standard deviation is\",max(s1,s2,s3,s4,s5))\n",
    "print(\"The minimum standard deviation is\",min(s1,s2,s3,s4,s5))\n",
    "v1=np.var(z[0:1,0:5])\n",
    "v2=np.var(z[1:2,0:5])\n",
    "v3=np.var(z[2:3,0:5])\n",
    "v4=np.var(z[3:4,0:5])\n",
    "v5=np.var(z[4:5,0:5])\n",
    "max(v1,v2,v3,v4,v5)\n",
    "print(\"The maximum variance is\",max(v1,v2,v3,v4,v5))\n",
    "print(\"The minimum variance is\",min(v1,v2,v3,v4,v5))\n"
   ]
  },
  {
   "cell_type": "markdown",
   "metadata": {},
   "source": [
    "# 21. Compute the average and strike rate for each player and sort it decending way (seperately for avg and strike rate)\n",
    "\n",
    "<img src = 'crick1.png'>"
   ]
  },
  {
   "cell_type": "code",
   "execution_count": 200,
   "metadata": {},
   "outputs": [
    {
     "name": "stdout",
     "output_type": "stream",
     "text": [
      "[161.11111111 101.42180095  98.4375      94.93087558  49.53271028]\n",
      "[53.5  51.5  47.25 29.   13.25]\n"
     ]
    }
   ],
   "source": [
    "# Solution \n",
    "runs=np.array([54,60,10,65,102,2,78,32,3,110,1,92,56,6,12,42,12,8,22,11])\n",
    "balls=np.array([50,42,22,78,95,8,65,43,9,100,7,101,27,3,11,31,24,20,36,27])\n",
    "MSD =sum(runs[:4])*100/sum(balls[:4])\n",
    "avg1=sum(runs[:4])/4\n",
    "Kohli= sum(runs[4:8])*100/sum(balls[4:8])\n",
    "avg2=sum(runs[4:8])/4\n",
    "Rohit=sum(runs[8:12])*100/sum(balls[8:12])\n",
    "avg3=sum(runs[8:12])/4\n",
    "Rahul=sum(runs[12:16])*100/sum(balls[12:16])\n",
    "avg4=sum(runs[12:16])/4\n",
    "Dhawan= sum(runs[16:20])*100/sum(balls[16:20])\n",
    "avg5=sum(runs[16:20])/4\n",
    "strike_rate=np.array([MSD,Kohli,Rohit,Rahul,Dhawan])\n",
    "Average=np.array([avg1,avg2,avg3,avg4,avg5])\n",
    "a=np.sort(strike_rate)\n",
    "b=np.sort(Average)\n",
    "print(a[::-1])\n",
    "print(b[::-1])\n",
    "\n"
   ]
  },
  {
   "cell_type": "code",
   "execution_count": null,
   "metadata": {},
   "outputs": [],
   "source": []
  },
  {
   "cell_type": "markdown",
   "metadata": {},
   "source": [
    "#### 22. The students mark was recorded in a numpy array: marks = np.array([65,84,47,56,89,98,48,77,80,39]).  Cutoff for pass is 50 marks. Write the logic to print the number of students passed and failed. "
   ]
  },
  {
   "cell_type": "code",
   "execution_count": 179,
   "metadata": {},
   "outputs": [
    {
     "name": "stdout",
     "output_type": "stream",
     "text": [
      "Number Of Students Passed = 7\n",
      "Number Of Students Failed = 3\n"
     ]
    }
   ],
   "source": [
    "marks = np.array([65,84,47,56,89,98,48,77,80,39])\n",
    "count=0\n",
    "count2=0\n",
    "for i in marks:\n",
    "    if i>50:\n",
    "        count+=1\n",
    "    else:\n",
    "        count2+=1\n",
    "print(\"Number Of Students Passed =\",count)\n",
    "print(\"Number Of Students Failed =\",count2)"
   ]
  },
  {
   "cell_type": "markdown",
   "metadata": {},
   "source": [
    "#### 23. The class incharge decided to give a mercy mark of 5 for those who scored between 45 and 49. Also the bonus of 5 marks awarded to the students who scored more than 80. Print all the student marks and compute the increase in the pass percentage of class. Any score more than 100 must be recorded as only 100."
   ]
  },
  {
   "cell_type": "code",
   "execution_count": 189,
   "metadata": {},
   "outputs": [
    {
     "name": "stdout",
     "output_type": "stream",
     "text": [
      "[ 65 104  52  56 109 118  53  77  80  39]\n",
      "Increase in Pass Percentage 20.0\n"
     ]
    }
   ],
   "source": [
    "intial_pass=count*100/10\n",
    "y=len(marks)\n",
    "count3=0\n",
    "for i in range(y):\n",
    "    if(marks[i]>80):\n",
    "        marks[i]=marks[i]+5\n",
    "    elif(marks[i]>45)and(marks[i]<49):\n",
    "        marks[i]+=5\n",
    "    elif(marks[i]>100):\n",
    "        marks[i]=100\n",
    "    if(marks[i]>50):\n",
    "        count3+=1\n",
    "        \n",
    "final_pass=count3*100/10            \n",
    "    \n",
    "print(marks)\n",
    "print(\"Increase in Pass Percentage\",(final_pass-intial_pass))\n"
   ]
  },
  {
   "cell_type": "markdown",
   "metadata": {},
   "source": [
    "#### 24. Print the time taken for performing the following operation using list and numpy array\n",
    "####       (x(i)^2 +8) / y(i),   where x and y are real integers from 1 to 60000"
   ]
  },
  {
   "cell_type": "code",
   "execution_count": 192,
   "metadata": {},
   "outputs": [
    {
     "name": "stdout",
     "output_type": "stream",
     "text": [
      "0.15810298919677734\n"
     ]
    }
   ],
   "source": [
    "import time\n",
    "starttime=time.time()\n",
    "for i in range(1,60000):\n",
    "    c=i**2+8/i\n",
    "endtime=time.time()\n",
    "print(endtime-starttime)"
   ]
  },
  {
   "cell_type": "markdown",
   "metadata": {},
   "source": [
    "#### 25. Create a Github account and upload your solution with the short write-up on Numpy"
   ]
  },
  {
   "cell_type": "markdown",
   "metadata": {},
   "source": [
    "# Solution\n",
    "NumPy is a Python library used for working with arrays.\n",
    "It also has functions for working in domain of linear algebra, fourier transform, and matrices.\n",
    "NumPy was created in 2005 by Travis Oliphant. It is an open source project and you can use it freely.\n",
    "NumPy stands for Numerical Python.\n",
    "NumPy is a Python library and is written partially in Python, but most of the parts that require fast computation are written in C or C++.\n",
    "Why we use Numpy over List?\n",
    "The reason is NumPy is faster than lists. Also it is optimized to work with latest CPU architectures\n",
    "\n",
    "\n",
    "\n"
   ]
  },
  {
   "cell_type": "code",
   "execution_count": null,
   "metadata": {},
   "outputs": [],
   "source": []
  }
 ],
 "metadata": {
  "kernelspec": {
   "display_name": "Python 3",
   "language": "python",
   "name": "python3"
  },
  "language_info": {
   "codemirror_mode": {
    "name": "ipython",
    "version": 3
   },
   "file_extension": ".py",
   "mimetype": "text/x-python",
   "name": "python",
   "nbconvert_exporter": "python",
   "pygments_lexer": "ipython3",
   "version": "3.8.5"
  }
 },
 "nbformat": 4,
 "nbformat_minor": 4
}
